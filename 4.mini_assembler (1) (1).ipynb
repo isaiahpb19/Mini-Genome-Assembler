{
 "cells": [
  {
   "cell_type": "markdown",
   "metadata": {},
   "source": [
    "<hr style=\"height:5px;border-width:2;color:gray;background-color:#000000\"> \n",
    "<center><h1>CS 144 - Winter 2024 - Mini-Assembler</h1></center>\n",
    "<center><h1>Due: Sunday, March 17th, 2024 @ 11:59pm</h1></center>"
   ]
  },
  {
   "cell_type": "markdown",
   "metadata": {},
   "source": [
    "### Enter your information below:\n",
    "\n",
    "<div style=\"color: #000000;background-color: #EEEEFF\">\n",
    "    Your Name (submitter): Isaiah Bernardino <br>\n",
    "    Your student ID (submitter): 862266310\n",
    "<br>\n",
    "<br>\n",
    "<b>By submitting this notebook, I assert that the work below is my own work, completed for this course.  Except where explicitly cited, none of the portions of this notebook are duplicated from anyone else's work or my own previous work.</b>\n",
    "<br>    \n",
    "<br>\n",
    "<b>Instruction for submissions:</B> when you have completed this project, download this .ipynb file to your computer by left-clicking on the file name, and submit to <a href=\"https://elearn.ucr.edu/\">Canvas</A> by the deadline. \n",
    "<br>\n",
    "<br>\n",
    "<B>Late work:</B> There is no late deadline for the final project, except for the most serious circumstances (illness, medical emergency, etc.) which have to documented.\n",
    "</div>\n"
   ]
  },
  {
   "cell_type": "markdown",
   "metadata": {},
   "source": [
    "<hr style=\"height:5px;border-width:2;color:gray;background-color:#000000\"> \n",
    "<center><h1>Assembler</h1></center>\n",
    "<br>\n",
    "\n",
    "\n",
    "The objective of this project is to implement software to assemble a (very short and non-repetitive) genome from synthetic reads. Here we assume that reads have no sequencing errors. (Credit: Ben Langmead)\n",
    "\n",
    "\n",
    "**Step 1:** Let's get the reads in FASTA format. The reads come from the same synthetic genome and each is 100 bp long. For simplicity, these reads don't have any quality values. "
   ]
  },
  {
   "cell_type": "code",
   "execution_count": null,
   "metadata": {},
   "outputs": [
    {
     "ename": "",
     "evalue": "",
     "output_type": "error",
     "traceback": [
      "\u001b[1;31mRunning cells with '/opt/homebrew/bin/python3' requires the ipykernel package.\n",
      "\u001b[1;31mRun the following command to install 'ipykernel' into the Python environment. \n",
      "\u001b[1;31mCommand: '/opt/homebrew/bin/python3 -m pip install ipykernel -U --user --force-reinstall'"
     ]
    }
   ],
   "source": [
    "!wget http://www.cs.ucr.edu/~stelo/cs144winter24/data/reads.fa"
   ]
  },
  {
   "cell_type": "markdown",
   "metadata": {},
   "source": [
    "**Step 2:** Write code to find each read's *best buddy to the right* with a time-efficient algorithm. For each read **A**, find the other read **B** that has the **longest** suffix/prefix exact match with **A**. In other words, if a suffix of **A** matches a prefix of **B**, **B** is **A**'s *best buddy* to the right. **However**, if there is a tie, or if the longest suffix/prefix match is less than 40 nucleotides long, then **A** *has no best buddy to the right*.  For each read, your program should output either (a) nothing, if there is no best buddy to the right, or (b) a single, space-separated line with the IDs of **A** and **B** and the length of the overlap, like this:\n",
    "\n",
    "    0255/2 2065/1 88\n",
    "\n",
    "This indicates a 88 bp suffix of the read with ID **0255/2** that matches a prefix of the read with ID **2065/1**.  Because of how we defined best buddy, it also means no other read besides **2065/1** has a prefix of 88bp or longer that is also a suffix of read **0255/2**.  A corrolary of this is that a particular read ID should appear in the first column of your program's output at most once.  Also, since we require the overlap to be at least 40 bases long, the last column should not contain any number smaller than 40.\n",
    "\n",
    "Notes:\n",
    "* You can assume all reads are error-free and from the forward strand.  In other words, you do **not** need to consider sequencing errors or reverse complements\n",
    "* The order of the output lines is not important\n",
    "* Reading/parsing the FASTA files can be done with BioPython, or by borrowing code from <A HREF=\"https://nbviewer.jupyter.org/github/BenLangmead/comp-genomics-class/blob/master/notebooks/FASTA.ipynb\">this</A> if you want your own custom solution\n",
    "\n",
    "Important: Try to avoid comparing every read to every other read when looking for suffix/prefix matches. This can be achieved by grouping \"similar\" reads, that is reads that share common k-mers.  For instance, you can build a dictionary where the keys are k-mers and the values are sets containing the names of all reads containing that k-mer.  Since you are looking for overlaps of length at least 40, you only need to compare reads if they have at least 1 40-mer in common.\n",
    "\n",
    "You are allowed to use any Python package that you want. You should be able install packages using `!pip install package`. Remember that it is mandatory to acknowledge sources."
   ]
  },
  {
   "cell_type": "code",
   "execution_count": 8,
   "metadata": {},
   "outputs": [],
   "source": [
    "## YOUR CODE HERE\n",
    "## you are allowed to use any python library you want\n",
    "from Bio import SeqIO\n",
    "def best_buddy(R):\n",
    "    temp_mer = {}\n",
    "    match = {}\n",
    "    k_mer = {}\n",
    "    ties = []\n",
    "    min_buddy = 40\n",
    "    n = 100\n",
    "    SeqDict = SeqIO.to_dict(SeqIO.parse(R, \"fasta\"))\n",
    "\n",
    "    ## 40-mer Dictionary\n",
    "    for seq_record in SeqIO.parse(R, \"fasta\"):\n",
    "        for i in range(len(seq_record.seq)-min_buddy+1):\n",
    "            if str(seq_record.seq[i:i+min_buddy]) in temp_mer.keys():\n",
    "                temp_mer[str(seq_record.seq[i:i+min_buddy])].append(seq_record.name)\n",
    "            else:\n",
    "                temp_mer[str(seq_record.seq[i:i+min_buddy])] = [seq_record.name]\n",
    "\n",
    "    \n",
    "    for j in range(n-1, 39, -1):\n",
    "        count = 0\n",
    "        temp_keys = list(temp_mer.keys())\n",
    "        for word in temp_keys:\n",
    "            for suffix in temp_mer[word]:\n",
    "                    for i in range(len(seq_record.seq)-j+1):\n",
    "                        if SeqDict[suffix].seq[i:i+j] in k_mer.keys():\n",
    "                            k_mer[str(SeqDict[suffix].seq[i:i+j])].add(suffix)\n",
    "                        else:\n",
    "                            k_mer[str(SeqDict[suffix].seq[i:i+j])] = {suffix}\n",
    "\n",
    "        k_mer_keys = list(k_mer.keys())\n",
    "        for k in k_mer_keys: \n",
    "            for idx,suffix in enumerate(k_mer[k]):\n",
    "                for idx2,prefix in enumerate(k_mer[k]):\n",
    "                    if idx2!=idx and SeqDict[suffix].seq[n-j:n] == k and SeqDict[prefix].seq[0:j] == k:\n",
    "                        if suffix in match.keys():\n",
    "                            if j == match[suffix][1]:\n",
    "                                match[suffix][2] = \"eq\"\n",
    "                        else:\n",
    "                            match[suffix] = [prefix, j,\"neq\"]\n",
    "                            count += 1\n",
    "        temp_mer = k_mer\n",
    "        k_mer = {}\n",
    "        if count == 0: break   \n",
    "                        \n",
    "    match_keys = list(match.keys())\n",
    "    match_keys.sort()\n",
    "\n",
    "    for A in match_keys:\n",
    "        if match[A][2] == \"eq\": match.pop(A)\n",
    "            \n",
    "    return match\n",
    "\n",
    "def print_bbr(bbr):\n",
    "    bbr_keys = list(bbr.keys())\n",
    "    bbr_keys.sort()\n",
    "\n",
    "    for A in bbr_keys:\n",
    "        print(A, bbr[A][0], bbr[A][1])"
   ]
  },
  {
   "cell_type": "code",
   "execution_count": 16,
   "metadata": {},
   "outputs": [
    {
     "name": "stdout",
     "output_type": "stream",
     "text": [
      "CPU times: user 20.2 s, sys: 87.1 ms, total: 20.3 s\n",
      "Wall time: 20.3 s\n"
     ]
    }
   ],
   "source": [
    "%%time\n",
    "bbr = best_buddy(r\"reads.fa\")\n",
    "# print_bbr(bbr)"
   ]
  },
  {
   "cell_type": "markdown",
   "metadata": {},
   "source": [
    "**Step 3:** Write a program that takes the output of the overlap program from Step 2 and creates **uni**quely assemblable con**tigs** (unitigs), using the algorithm described below\n",
    "\n",
    "We already determined each read's best buddy *to the right*.  I'll abbreviate this as bbr.  We did not attempt to compute each read's best buddy *to the left* (bbl), but we can infer it from the bbrs.  Consider the following output:\n",
    "\n",
    "    A B 60\n",
    "    E A 40\n",
    "    C B 70\n",
    "    D C 40\n",
    "\n",
    "**A**'s bbr is **B**.  But **B**'s bbl is **C**, *not* **A**!  Your program should form unitigs by joining together two reads **X** and **Y** if they are *mutual best buddies*.  **X** and **Y** are mutual best buddies if **X**'s bbr is **Y** **and** **Y**'s bbl is **X**, or vice versa.  In this example, we would join **D**, **C**, and **B** into a single unitig (and in that order), and would join reads **E** and **A** into a single unitig (also in that order).\n",
    "\n",
    "Your program's output should consist of several entries like the following, with one entry per unitig:\n",
    "\n",
    "    START UNITIG 1 D\n",
    "      C 40\n",
    "      B 70\n",
    "    END UNITIG 1\n",
    "    START UNITIG 2 E\n",
    "      A 40\n",
    "    END UNITIG 2\n",
    "\n",
    "The first entry represents a unitig with ID **1** consisting of 3 reads.  The first (leftmost) read is **D**.  The second read, **C**, has a **40** nt prefix that is a suffix of the previous read (**D**).  The third (rightmost) read in the contig (**B**) has a **70** bp prefix that is a suffix of the previous read (**C**).\n",
    "\n",
    "Each read should be contained in exactly one unitig.  The order of unitigs in the file is not important, but the unitig IDs should be integers and assigned in ascending order.\n",
    "\n",
    "You are allowed to use any Python package that you want but it is mandatory to acknowledge sources.\n",
    "\n",
    "**Hint:** the correct solution for this particular input consists of exactly 4 unitigs"
   ]
  },
  {
   "cell_type": "code",
   "execution_count": 12,
   "metadata": {},
   "outputs": [],
   "source": [
    "## YOUR CODE HERE\n",
    "## you are allowed to use any python library you want\n",
    "import networkx as nx\n",
    "def unitigs(mutual_b):     \n",
    "    open(\"unitig.txt\", \"w\").close()\n",
    "    bbr_keys = list(mutual_b.keys())\n",
    "    bbr_keys.sort()\n",
    "    \n",
    "    for idx1,A in enumerate(bbr_keys):\n",
    "        for idx2,B in enumerate(bbr_keys):\n",
    "            if idx1 != idx2 and mutual_b[A][0] == mutual_b[B][0]:\n",
    "                if mutual_b[A][1] > mutual_b[B][1]:\n",
    "                    mutual_b[B][2] = \"del\"\n",
    "                elif mutual_b[A][1] < mutual_b[B][1]:\n",
    "                    mutual_b[A][2] = \"del\"\n",
    "                else:\n",
    "                    mutual_b[A][2] = mutual_b[A][2]= \"del\"\n",
    "            \n",
    "    for A in bbr_keys:\n",
    "        if mutual_b[A][2] == \"del\": mutual_b.pop(A)\n",
    "\n",
    "    bbr_keys = list(mutual_b.keys())\n",
    "    suffix_list = [mutual_b[k][0] for k in bbr_keys]\n",
    "    suffix_not =[k for k in bbr_keys if not k in suffix_list] \n",
    "    \n",
    "    for i,suffix in enumerate(suffix_not):\n",
    "        g = nx.DiGraph()\n",
    "        g.add_node(suffix)\n",
    "        g.add_node(mutual_b[suffix][0])\n",
    "        g.add_edge(suffix, mutual_b[suffix][0], weight=mutual_b[suffix][1])\n",
    "        nextKey = mutual_b[suffix][0]\n",
    "\n",
    "        while nextKey in bbr_keys:\n",
    "            g.add_node(mutual_b[nextKey][0])\n",
    "            g.add_edge(nextKey, mutual_b[nextKey][0], weight=mutual_b[nextKey][1])\n",
    "            nextKey = mutual_b[nextKey][0]\n",
    "\n",
    "        nodes = list(g.nodes)\n",
    "        edges = list(g.edges.data(\"weight\", default=1))\n",
    "        \n",
    "        with open('unitig.txt', 'a') as f:\n",
    "            f.write('START UNITIG '+ str(i) + ' ' + str(nodes[0]) + '\\n')\n",
    "            for j,node in enumerate(nodes):\n",
    "                if j != 0:\n",
    "                    f.write(str(node) + ' ' + str(edges[j-1][2]) + '\\n')\n",
    "            f.write('END UNITIG'+ ' ' + str(i) + '\\n')\n",
    "        g.clear()\n",
    "    return\n",
    "            "
   ]
  },
  {
   "cell_type": "code",
   "execution_count": 13,
   "metadata": {},
   "outputs": [
    {
     "name": "stdout",
     "output_type": "stream",
     "text": [
      "CPU times: user 6.37 s, sys: 6.03 ms, total: 6.37 s\n",
      "Wall time: 6.37 s\n"
     ]
    }
   ],
   "source": [
    "%%time\n",
    "unitigs(bbr)"
   ]
  },
  {
   "cell_type": "markdown",
   "metadata": {},
   "source": [
    "**Step 4**: Write a program that produces the final genome by processing the unitig file. This requires that you compare the unitigs to each other, think about what order they must go in, and then put them together accordingly. The final genome should be written in FASTA format (again, use BioPython or write your own code). You are allowed to use any Python package that you want, but it is mandatory to acknowledge sources.\n",
    "\n",
    "**Hints:**\n",
    "\n",
    "* the correct genome is 7959 nucleotides long\n",
    "* to learn how the unitigs should go together, try overlapping them with each other\n",
    "* a unitig can be used more than once in the solution"
   ]
  },
  {
   "cell_type": "code",
   "execution_count": 14,
   "metadata": {},
   "outputs": [],
   "source": [
    "## YOUR CODE HERE\n",
    "## you are allowed to use any python library you want\n",
    "def asm_genome(unitig):\n",
    "    asm_unitig = []\n",
    "    SeqDict = SeqIO.to_dict(SeqIO.parse(r\"reads.fa\", \"fasta\"))\n",
    "\n",
    "    for j in range(len(unitig)):\n",
    "        for i in range(len(unitig[j])):\n",
    "            if i == 0:\n",
    "                x = str(SeqDict[unitig[j][i]].seq)\n",
    "            else:\n",
    "                w = unitig[j][i].split()\n",
    "                x += str(SeqDict[w[0]].seq)[int(w[1]):100]\n",
    "        asm_unitig.append(x)\n",
    "    \n",
    "    suffix_overlap = []\n",
    "    prefix_overlap = []\n",
    "    \n",
    "    for k in range(len(asm_unitig)):\n",
    "        dict_suffix = {}\n",
    "        dict_prefix = {}\n",
    "        for i in range(len(asm_unitig)):\n",
    "            if i != k:\n",
    "                j = asm_unitig[i].find(asm_unitig[k][0])\n",
    "                while j >= 0:\n",
    "                    if asm_unitig[k].startswith(asm_unitig[i][j:]) and len(asm_unitig[i][j:]) > 39:\n",
    "                        dict_suffix[i] = j\n",
    "                        break\n",
    "                    j = asm_unitig[i].find(asm_unitig[k][0], j+1)\n",
    "                    \n",
    "                j = asm_unitig[k].find(asm_unitig[i][0])\n",
    "                while j >= 0:\n",
    "                    if asm_unitig[i].startswith(asm_unitig[k][j:]) and len(asm_unitig[k][j:]) > 39:\n",
    "                        dict_prefix[i] = j\n",
    "                        break\n",
    "                    j = asm_unitig[k].find(asm_unitig[i][0], j+1)\n",
    "        suffix_overlap.append(dict_suffix)\n",
    "        prefix_overlap.append(dict_prefix)\n",
    "        \n",
    "    current = -1\n",
    "    end = -1\n",
    "    for i in range(len(suffix_overlap)):\n",
    "        if len(suffix_overlap[i]) == 0: current = i\n",
    "            \n",
    "    for i in range(len(prefix_overlap)):\n",
    "        if len(prefix_overlap[i]) == 0: end = i\n",
    "            \n",
    "    visit_all = [0]*len(asm_unitig)\n",
    "    genome = asm_unitig[current]\n",
    "    while sum(visit_all) != len(asm_unitig):\n",
    "        visit_all[current] = 1\n",
    "        next = prefix_overlap[current]\n",
    "        \n",
    "        if sum(visit_all) == len(asm_unitig)-1 and end in list(next.keys()):\n",
    "            visit_all[end] = 1\n",
    "            key = end\n",
    "        else:   \n",
    "            ok = False\n",
    "            if len(list(next.keys())) == 1: key = list(next.keys())[0]\n",
    "            else:\n",
    "                for key in list(next.keys()):\n",
    "                    for i in range(len(suffix_overlap)):\n",
    "                        if key in list(suffix_overlap[i].keys()) and key != end:\n",
    "                            ok = True\n",
    "                            break\n",
    "                    if ok: break\n",
    "        \n",
    "        genome = genome + asm_unitig[key][len(asm_unitig[current])-next[key]:]\n",
    "        current = key\n",
    "\n",
    "    records = \">\" + str(len(genome)) + \"\\n\" + genome\n",
    "    with open(\"rg.fa\", \"w\") as handle:\n",
    "      handle.write(records)\n"
   ]
  },
  {
   "cell_type": "code",
   "execution_count": 15,
   "metadata": {},
   "outputs": [
    {
     "name": "stdout",
     "output_type": "stream",
     "text": [
      "CPU times: user 26.9 s, sys: 74.9 ms, total: 27 s\n",
      "Wall time: 27.3 s\n"
     ]
    }
   ],
   "source": [
    "%%time\n",
    "unitigs(best_buddy(r\"reads.fa\"))\n",
    "unitig = []\n",
    "\n",
    "with open('unitig.txt', \"r\") as f:\n",
    "    for line in f:\n",
    "        check = line.rstrip().split()[0]\n",
    "        if check == 'START':\n",
    "            _ = []\n",
    "            _.append(line.rstrip().split()[3])\n",
    "        elif check != 'END':\n",
    "            _.append(line.rstrip())\n",
    "        elif check == 'END':\n",
    "            unitig.append(_)\n",
    "\n",
    "asm_genome(unitig)"
   ]
  },
  {
   "cell_type": "code",
   "execution_count": null,
   "metadata": {},
   "outputs": [],
   "source": []
  }
 ],
 "metadata": {
  "kernelspec": {
   "display_name": "Python 3",
   "language": "python",
   "name": "python3"
  },
  "language_info": {
   "codemirror_mode": {
    "name": "ipython",
    "version": 3
   },
   "file_extension": ".py",
   "mimetype": "text/x-python",
   "name": "python",
   "nbconvert_exporter": "python",
   "pygments_lexer": "ipython3",
   "version": "3.12.2"
  }
 },
 "nbformat": 4,
 "nbformat_minor": 4
}
